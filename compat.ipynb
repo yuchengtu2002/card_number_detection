{
 "cells": [
  {
   "cell_type": "code",
   "execution_count": 5,
   "metadata": {},
   "outputs": [
    {
     "name": "stdout",
     "output_type": "stream",
     "text": [
      "Loaded model type: <class 'dict'>\n"
     ]
    }
   ],
   "source": [
    "import torch\n",
    "import sys\n",
    "sys.path.append('/Users/johnson/card_number_detection/yolov5')\n",
    "\n",
    "weights_path = 'yolov5/runs/train/card_number_detector6/weights/best.pt'\n",
    "weights = torch.load(weights_path, map_location='cpu')\n",
    "print(f\"Loaded model type: {type(weights)}\")\n",
    "\n",
    "torch.save(weights,'compatible weights.pt')\n"
   ]
  },
  {
   "cell_type": "code",
   "execution_count": 6,
   "metadata": {},
   "outputs": [
    {
     "name": "stdout",
     "output_type": "stream",
     "text": [
      "Saved only the state_dict as final_compatible_weights.pt.\n"
     ]
    }
   ],
   "source": [
    "import torch\n",
    "\n",
    "sys.path.append('/Users/johnson/card_number_detection/yolov5')\n",
    "\n",
    "weights_path = 'yolov5/runs/train/card_number_detector6/weights/best.pt'\n",
    "\n",
    "try:\n",
    "    # Load the original weights\n",
    "    model = torch.load(weights_path, map_location='cpu')\n",
    "    \n",
    "    # Extract the state_dict\n",
    "    if hasattr(model, 'state_dict'):\n",
    "        state_dict = model.state_dict()\n",
    "    elif isinstance(model, dict) and 'model' in model:\n",
    "        state_dict = model['model'].state_dict()\n",
    "    else:\n",
    "        state_dict = model  # Assume it's already a state_dict\n",
    "\n",
    "    # Save the state_dict only\n",
    "    torch.save(state_dict, 'final_compatible_weights.pt')\n",
    "    print(\"Saved only the state_dict as final_compatible_weights.pt.\")\n",
    "except Exception as e:\n",
    "    print(f\"Error during extraction: {e}\")"
   ]
  }
 ],
 "metadata": {
  "kernelspec": {
   "display_name": "yolov5_env",
   "language": "python",
   "name": "python3"
  },
  "language_info": {
   "codemirror_mode": {
    "name": "ipython",
    "version": 3
   },
   "file_extension": ".py",
   "mimetype": "text/x-python",
   "name": "python",
   "nbconvert_exporter": "python",
   "pygments_lexer": "ipython3",
   "version": "3.8.20"
  }
 },
 "nbformat": 4,
 "nbformat_minor": 2
}
